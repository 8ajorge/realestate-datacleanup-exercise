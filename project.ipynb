{
 "cells": [
  {
   "attachments": {},
   "cell_type": "markdown",
   "id": "innocent-university",
   "metadata": {},
   "source": [
    "# Real Estate Clean up\n",
    "\n",
    "This is a real dataset, and it was downloaded using web scraping techniques. The data contains registers from **Fotocasa** which is one of the most popular real estate websites in Spain. Please, do not do this (web scraping) unless it is for academic purposes.\n",
    "\n",
    "The dataset was downloaded a few years ago by Henry Navarro, and in no case were economic returns obtained from it.\n",
    "\n",
    "It contains thousands of data from real houses published on the web www.fotocasa.com. Your goal is to extract as much information as possible with the knowledge you have so far about data science, for example what is the most expensive house in the entire dataset?\n",
    "\n",
    "Let's start with precisely that question... Good luck!"
   ]
  },
  {
   "attachments": {},
   "cell_type": "markdown",
   "id": "multiple-glass",
   "metadata": {},
   "source": [
    "#### Exercise 00. Read the dataset assets/real_estate.csv and try to visualize the table (★☆☆)"
   ]
  },
  {
   "cell_type": "code",
   "execution_count": 1,
   "id": "frank-heath",
   "metadata": {},
   "outputs": [
    {
     "data": {
      "text/html": [
       "<div>\n",
       "<style scoped>\n",
       "    .dataframe tbody tr th:only-of-type {\n",
       "        vertical-align: middle;\n",
       "    }\n",
       "\n",
       "    .dataframe tbody tr th {\n",
       "        vertical-align: top;\n",
       "    }\n",
       "\n",
       "    .dataframe thead th {\n",
       "        text-align: right;\n",
       "    }\n",
       "</style>\n",
       "<table border=\"1\" class=\"dataframe\">\n",
       "  <thead>\n",
       "    <tr style=\"text-align: right;\">\n",
       "      <th></th>\n",
       "      <th>Unnamed: 0</th>\n",
       "      <th>id_realEstates</th>\n",
       "      <th>isNew</th>\n",
       "      <th>realEstate_name</th>\n",
       "      <th>phone_realEstate</th>\n",
       "      <th>url_inmueble</th>\n",
       "      <th>rooms</th>\n",
       "      <th>bathrooms</th>\n",
       "      <th>surface</th>\n",
       "      <th>price</th>\n",
       "      <th>...</th>\n",
       "      <th>level4Id</th>\n",
       "      <th>level5Id</th>\n",
       "      <th>level6Id</th>\n",
       "      <th>level7Id</th>\n",
       "      <th>level8Id</th>\n",
       "      <th>accuracy</th>\n",
       "      <th>latitude</th>\n",
       "      <th>longitude</th>\n",
       "      <th>zipCode</th>\n",
       "      <th>customZone</th>\n",
       "    </tr>\n",
       "  </thead>\n",
       "  <tbody>\n",
       "    <tr>\n",
       "      <th>0</th>\n",
       "      <td>1</td>\n",
       "      <td>153771986</td>\n",
       "      <td>False</td>\n",
       "      <td>ferrari 57 inmobiliaria</td>\n",
       "      <td>912177526.0</td>\n",
       "      <td>https://www.fotocasa.es/es/comprar/vivienda/ma...</td>\n",
       "      <td>3.0</td>\n",
       "      <td>2.0</td>\n",
       "      <td>103.0</td>\n",
       "      <td>195000</td>\n",
       "      <td>...</td>\n",
       "      <td>0</td>\n",
       "      <td>0</td>\n",
       "      <td>0</td>\n",
       "      <td>0</td>\n",
       "      <td>0</td>\n",
       "      <td>0</td>\n",
       "      <td>40,2948276786438</td>\n",
       "      <td>-3,44402412135624</td>\n",
       "      <td>NaN</td>\n",
       "      <td>NaN</td>\n",
       "    </tr>\n",
       "    <tr>\n",
       "      <th>1</th>\n",
       "      <td>2</td>\n",
       "      <td>153867863</td>\n",
       "      <td>False</td>\n",
       "      <td>tecnocasa fuenlabrada ferrocarril</td>\n",
       "      <td>916358736.0</td>\n",
       "      <td>https://www.fotocasa.es/es/comprar/vivienda/ma...</td>\n",
       "      <td>3.0</td>\n",
       "      <td>1.0</td>\n",
       "      <td>NaN</td>\n",
       "      <td>89000</td>\n",
       "      <td>...</td>\n",
       "      <td>0</td>\n",
       "      <td>0</td>\n",
       "      <td>0</td>\n",
       "      <td>0</td>\n",
       "      <td>0</td>\n",
       "      <td>1</td>\n",
       "      <td>40,28674</td>\n",
       "      <td>-3,79351</td>\n",
       "      <td>NaN</td>\n",
       "      <td>NaN</td>\n",
       "    </tr>\n",
       "    <tr>\n",
       "      <th>2</th>\n",
       "      <td>3</td>\n",
       "      <td>153430440</td>\n",
       "      <td>False</td>\n",
       "      <td>look find boadilla</td>\n",
       "      <td>916350408.0</td>\n",
       "      <td>https://www.fotocasa.es/es/comprar/vivienda/ma...</td>\n",
       "      <td>2.0</td>\n",
       "      <td>2.0</td>\n",
       "      <td>99.0</td>\n",
       "      <td>390000</td>\n",
       "      <td>...</td>\n",
       "      <td>0</td>\n",
       "      <td>0</td>\n",
       "      <td>0</td>\n",
       "      <td>0</td>\n",
       "      <td>0</td>\n",
       "      <td>0</td>\n",
       "      <td>40,4115646786438</td>\n",
       "      <td>-3,90662252135624</td>\n",
       "      <td>NaN</td>\n",
       "      <td>NaN</td>\n",
       "    </tr>\n",
       "    <tr>\n",
       "      <th>3</th>\n",
       "      <td>4</td>\n",
       "      <td>152776331</td>\n",
       "      <td>False</td>\n",
       "      <td>tecnocasa fuenlabrada ferrocarril</td>\n",
       "      <td>916358736.0</td>\n",
       "      <td>https://www.fotocasa.es/es/comprar/vivienda/ma...</td>\n",
       "      <td>3.0</td>\n",
       "      <td>1.0</td>\n",
       "      <td>86.0</td>\n",
       "      <td>89000</td>\n",
       "      <td>...</td>\n",
       "      <td>0</td>\n",
       "      <td>0</td>\n",
       "      <td>0</td>\n",
       "      <td>0</td>\n",
       "      <td>0</td>\n",
       "      <td>0</td>\n",
       "      <td>40,2853785786438</td>\n",
       "      <td>-3,79508142135624</td>\n",
       "      <td>NaN</td>\n",
       "      <td>NaN</td>\n",
       "    </tr>\n",
       "    <tr>\n",
       "      <th>4</th>\n",
       "      <td>5</td>\n",
       "      <td>153180188</td>\n",
       "      <td>False</td>\n",
       "      <td>ferrari 57 inmobiliaria</td>\n",
       "      <td>912177526.0</td>\n",
       "      <td>https://www.fotocasa.es/es/comprar/vivienda/ma...</td>\n",
       "      <td>2.0</td>\n",
       "      <td>2.0</td>\n",
       "      <td>106.0</td>\n",
       "      <td>172000</td>\n",
       "      <td>...</td>\n",
       "      <td>0</td>\n",
       "      <td>0</td>\n",
       "      <td>0</td>\n",
       "      <td>0</td>\n",
       "      <td>0</td>\n",
       "      <td>0</td>\n",
       "      <td>40,2998774864376</td>\n",
       "      <td>-3,45226301356237</td>\n",
       "      <td>NaN</td>\n",
       "      <td>NaN</td>\n",
       "    </tr>\n",
       "    <tr>\n",
       "      <th>...</th>\n",
       "      <td>...</td>\n",
       "      <td>...</td>\n",
       "      <td>...</td>\n",
       "      <td>...</td>\n",
       "      <td>...</td>\n",
       "      <td>...</td>\n",
       "      <td>...</td>\n",
       "      <td>...</td>\n",
       "      <td>...</td>\n",
       "      <td>...</td>\n",
       "      <td>...</td>\n",
       "      <td>...</td>\n",
       "      <td>...</td>\n",
       "      <td>...</td>\n",
       "      <td>...</td>\n",
       "      <td>...</td>\n",
       "      <td>...</td>\n",
       "      <td>...</td>\n",
       "      <td>...</td>\n",
       "      <td>...</td>\n",
       "      <td>...</td>\n",
       "    </tr>\n",
       "    <tr>\n",
       "      <th>15330</th>\n",
       "      <td>15331</td>\n",
       "      <td>153901377</td>\n",
       "      <td>False</td>\n",
       "      <td>infocasa consulting</td>\n",
       "      <td>911360461.0</td>\n",
       "      <td>https://www.fotocasa.es/es/comprar/vivienda/ma...</td>\n",
       "      <td>2.0</td>\n",
       "      <td>1.0</td>\n",
       "      <td>96.0</td>\n",
       "      <td>259470</td>\n",
       "      <td>...</td>\n",
       "      <td>0</td>\n",
       "      <td>0</td>\n",
       "      <td>0</td>\n",
       "      <td>0</td>\n",
       "      <td>0</td>\n",
       "      <td>0</td>\n",
       "      <td>40,45416</td>\n",
       "      <td>-3,70286</td>\n",
       "      <td>NaN</td>\n",
       "      <td>NaN</td>\n",
       "    </tr>\n",
       "    <tr>\n",
       "      <th>15331</th>\n",
       "      <td>15332</td>\n",
       "      <td>150394373</td>\n",
       "      <td>False</td>\n",
       "      <td>inmobiliaria pulpon</td>\n",
       "      <td>912788039.0</td>\n",
       "      <td>https://www.fotocasa.es/es/comprar/vivienda/ma...</td>\n",
       "      <td>3.0</td>\n",
       "      <td>1.0</td>\n",
       "      <td>150.0</td>\n",
       "      <td>165000</td>\n",
       "      <td>...</td>\n",
       "      <td>0</td>\n",
       "      <td>0</td>\n",
       "      <td>0</td>\n",
       "      <td>0</td>\n",
       "      <td>0</td>\n",
       "      <td>0</td>\n",
       "      <td>40,36652</td>\n",
       "      <td>-3,48951</td>\n",
       "      <td>NaN</td>\n",
       "      <td>NaN</td>\n",
       "    </tr>\n",
       "    <tr>\n",
       "      <th>15332</th>\n",
       "      <td>15333</td>\n",
       "      <td>153901397</td>\n",
       "      <td>False</td>\n",
       "      <td>tecnocasa torrelodones</td>\n",
       "      <td>912780348.0</td>\n",
       "      <td>https://www.fotocasa.es/es/comprar/vivienda/ma...</td>\n",
       "      <td>4.0</td>\n",
       "      <td>2.0</td>\n",
       "      <td>175.0</td>\n",
       "      <td>495000</td>\n",
       "      <td>...</td>\n",
       "      <td>0</td>\n",
       "      <td>0</td>\n",
       "      <td>0</td>\n",
       "      <td>0</td>\n",
       "      <td>0</td>\n",
       "      <td>0</td>\n",
       "      <td>40,57444</td>\n",
       "      <td>-3,92124</td>\n",
       "      <td>NaN</td>\n",
       "      <td>NaN</td>\n",
       "    </tr>\n",
       "    <tr>\n",
       "      <th>15333</th>\n",
       "      <td>15334</td>\n",
       "      <td>152607440</td>\n",
       "      <td>False</td>\n",
       "      <td>inmobiliaria pulpon</td>\n",
       "      <td>912788039.0</td>\n",
       "      <td>https://www.fotocasa.es/es/comprar/vivienda/ma...</td>\n",
       "      <td>3.0</td>\n",
       "      <td>2.0</td>\n",
       "      <td>101.0</td>\n",
       "      <td>195000</td>\n",
       "      <td>...</td>\n",
       "      <td>0</td>\n",
       "      <td>0</td>\n",
       "      <td>0</td>\n",
       "      <td>0</td>\n",
       "      <td>0</td>\n",
       "      <td>0</td>\n",
       "      <td>40,36967</td>\n",
       "      <td>-3,48105</td>\n",
       "      <td>NaN</td>\n",
       "      <td>NaN</td>\n",
       "    </tr>\n",
       "    <tr>\n",
       "      <th>15334</th>\n",
       "      <td>15335</td>\n",
       "      <td>153901356</td>\n",
       "      <td>False</td>\n",
       "      <td>infocasa consulting</td>\n",
       "      <td>911360461.0</td>\n",
       "      <td>https://www.fotocasa.es/es/comprar/vivienda/ma...</td>\n",
       "      <td>3.0</td>\n",
       "      <td>2.0</td>\n",
       "      <td>152.0</td>\n",
       "      <td>765000</td>\n",
       "      <td>...</td>\n",
       "      <td>0</td>\n",
       "      <td>0</td>\n",
       "      <td>0</td>\n",
       "      <td>0</td>\n",
       "      <td>0</td>\n",
       "      <td>0</td>\n",
       "      <td>40,45773</td>\n",
       "      <td>-3,69068</td>\n",
       "      <td>NaN</td>\n",
       "      <td>NaN</td>\n",
       "    </tr>\n",
       "  </tbody>\n",
       "</table>\n",
       "<p>15335 rows × 37 columns</p>\n",
       "</div>"
      ],
      "text/plain": [
       "       Unnamed: 0  id_realEstates  isNew                    realEstate_name  \\\n",
       "0               1       153771986  False            ferrari 57 inmobiliaria   \n",
       "1               2       153867863  False  tecnocasa fuenlabrada ferrocarril   \n",
       "2               3       153430440  False                 look find boadilla   \n",
       "3               4       152776331  False  tecnocasa fuenlabrada ferrocarril   \n",
       "4               5       153180188  False            ferrari 57 inmobiliaria   \n",
       "...           ...             ...    ...                                ...   \n",
       "15330       15331       153901377  False                infocasa consulting   \n",
       "15331       15332       150394373  False                inmobiliaria pulpon   \n",
       "15332       15333       153901397  False             tecnocasa torrelodones   \n",
       "15333       15334       152607440  False                inmobiliaria pulpon   \n",
       "15334       15335       153901356  False                infocasa consulting   \n",
       "\n",
       "       phone_realEstate                                       url_inmueble  \\\n",
       "0           912177526.0  https://www.fotocasa.es/es/comprar/vivienda/ma...   \n",
       "1           916358736.0  https://www.fotocasa.es/es/comprar/vivienda/ma...   \n",
       "2           916350408.0  https://www.fotocasa.es/es/comprar/vivienda/ma...   \n",
       "3           916358736.0  https://www.fotocasa.es/es/comprar/vivienda/ma...   \n",
       "4           912177526.0  https://www.fotocasa.es/es/comprar/vivienda/ma...   \n",
       "...                 ...                                                ...   \n",
       "15330       911360461.0  https://www.fotocasa.es/es/comprar/vivienda/ma...   \n",
       "15331       912788039.0  https://www.fotocasa.es/es/comprar/vivienda/ma...   \n",
       "15332       912780348.0  https://www.fotocasa.es/es/comprar/vivienda/ma...   \n",
       "15333       912788039.0  https://www.fotocasa.es/es/comprar/vivienda/ma...   \n",
       "15334       911360461.0  https://www.fotocasa.es/es/comprar/vivienda/ma...   \n",
       "\n",
       "       rooms  bathrooms  surface   price  ... level4Id level5Id level6Id  \\\n",
       "0        3.0        2.0    103.0  195000  ...        0        0        0   \n",
       "1        3.0        1.0      NaN   89000  ...        0        0        0   \n",
       "2        2.0        2.0     99.0  390000  ...        0        0        0   \n",
       "3        3.0        1.0     86.0   89000  ...        0        0        0   \n",
       "4        2.0        2.0    106.0  172000  ...        0        0        0   \n",
       "...      ...        ...      ...     ...  ...      ...      ...      ...   \n",
       "15330    2.0        1.0     96.0  259470  ...        0        0        0   \n",
       "15331    3.0        1.0    150.0  165000  ...        0        0        0   \n",
       "15332    4.0        2.0    175.0  495000  ...        0        0        0   \n",
       "15333    3.0        2.0    101.0  195000  ...        0        0        0   \n",
       "15334    3.0        2.0    152.0  765000  ...        0        0        0   \n",
       "\n",
       "      level7Id level8Id accuracy          latitude          longitude zipCode  \\\n",
       "0            0        0        0  40,2948276786438  -3,44402412135624     NaN   \n",
       "1            0        0        1          40,28674           -3,79351     NaN   \n",
       "2            0        0        0  40,4115646786438  -3,90662252135624     NaN   \n",
       "3            0        0        0  40,2853785786438  -3,79508142135624     NaN   \n",
       "4            0        0        0  40,2998774864376  -3,45226301356237     NaN   \n",
       "...        ...      ...      ...               ...                ...     ...   \n",
       "15330        0        0        0          40,45416           -3,70286     NaN   \n",
       "15331        0        0        0          40,36652           -3,48951     NaN   \n",
       "15332        0        0        0          40,57444           -3,92124     NaN   \n",
       "15333        0        0        0          40,36967           -3,48105     NaN   \n",
       "15334        0        0        0          40,45773           -3,69068     NaN   \n",
       "\n",
       "      customZone  \n",
       "0            NaN  \n",
       "1            NaN  \n",
       "2            NaN  \n",
       "3            NaN  \n",
       "4            NaN  \n",
       "...          ...  \n",
       "15330        NaN  \n",
       "15331        NaN  \n",
       "15332        NaN  \n",
       "15333        NaN  \n",
       "15334        NaN  \n",
       "\n",
       "[15335 rows x 37 columns]"
      ]
     },
     "execution_count": 1,
     "metadata": {},
     "output_type": "execute_result"
    }
   ],
   "source": [
    "import pandas as pd\n",
    "\n",
    "# This CSV file contains semicolons instead of comas as separator\n",
    "ds = pd.read_csv('assets/real_estate.csv', sep=';')\n",
    "ds"
   ]
  },
  {
   "attachments": {},
   "cell_type": "markdown",
   "id": "latin-guest",
   "metadata": {},
   "source": [
    "#### Exercise 01. Which is the most expensive house in the dataset? (★☆☆)\n",
    "\n",
    "Print the address and the price of the selected house. For example:\n",
    "\n",
    "`The house with address General Street Nº5 is the most expensive and its price is 5000000 USD`"
   ]
  },
  {
   "cell_type": "code",
   "execution_count": 2,
   "id": "developing-optimum",
   "metadata": {},
   "outputs": [
    {
     "name": "stdout",
     "output_type": "stream",
     "text": [
      "The house with adress El Escorial is the most expensive and is price its 8500000 USD\n"
     ]
    }
   ],
   "source": [
    "# TODO\n",
    "import pandas as pd\n",
    "\n",
    "# This CSV file contains semicolons instead of comas as separator\n",
    "ds = pd.read_csv('assets/real_estate.csv', sep=';')\n",
    "most_expensive_address = ds.loc[ds['price'].idxmax()]['address']\n",
    "print('The house with adress', most_expensive_address, 'is the most expensive and is price its', ds['price'].max(), 'USD')"
   ]
  },
  {
   "attachments": {},
   "cell_type": "markdown",
   "id": "lesser-cosmetic",
   "metadata": {},
   "source": [
    "#### Exercise 02. Which is the cheapest house in the dataset? (★☆☆)\n",
    "\n",
    "Print the address and the price of the selected house. For example:\n",
    "\n",
    "`The house with address Concrete Street Nº1 is the cheapest and its price is 12000 USD`"
   ]
  },
  {
   "cell_type": "code",
   "execution_count": 3,
   "id": "lovely-oasis",
   "metadata": {},
   "outputs": [
    {
     "name": "stdout",
     "output_type": "stream",
     "text": [
      "The house with adress Berlin, Coslada is the cheapest and is price its 600 USD\n"
     ]
    }
   ],
   "source": [
    "# TODO\n",
    "cheapest_address = ds.loc[ds[ds['price'] > 0]['price'].idxmin()]['address']\n",
    "min_price = ds[ds['price'] > 0]['price'].min()\n",
    "print('The house with adress', cheapest_address, 'is the cheapest and is price its', min_price, 'USD')"
   ]
  },
  {
   "attachments": {},
   "cell_type": "markdown",
   "id": "compliant-fellowship",
   "metadata": {},
   "source": [
    "#### Exercise 03. Which is the biggest and the smallest house in the dataset? (★☆☆)\n",
    "\n",
    "Print both the address and the surface of the selected houses. For example:\n",
    "\n",
    "`The biggest house is located on Yukka Street Nº10 and its surface is 5000 meters`\n",
    "\n",
    "`The smallest house is located on County Road 1 N and its surface is 200 meters`"
   ]
  },
  {
   "cell_type": "code",
   "execution_count": 4,
   "id": "every-tiffany",
   "metadata": {},
   "outputs": [
    {
     "name": "stdout",
     "output_type": "stream",
     "text": [
      "The biggest house is located on Sevilla la Nueva and its surface is 249000.0 meters\n",
      "The smallest house is located on Calle Amparo,  Madrid Capital and its surface is 15.0 meters\n"
     ]
    }
   ],
   "source": [
    "# TODO\n",
    "biggest_house_address = ds.loc[ds['surface'].idxmax()]['address']\n",
    "print('The biggest house is located on', biggest_house_address, 'and its surface is', ds['surface'].max(), 'meters')\n",
    "smallest_house_address = ds.loc[ds[ds['surface'] > 0]['surface'].idxmin()]['address']\n",
    "min_surface = ds[ds['surface'] > 0]['surface'].min()\n",
    "print('The smallest house is located on', smallest_house_address, 'and its surface is', min_surface, 'meters')"
   ]
  },
  {
   "attachments": {},
   "cell_type": "markdown",
   "id": "danish-spirit",
   "metadata": {},
   "source": [
    "#### Exercise 04. How many populations (level5 column) the dataset contains? (★☆☆)\n",
    "\n",
    "Print the names of the populations with a comma as a separator. For example:\n",
    "\n",
    "`> print(populations)`\n",
    "\n",
    "`population1, population2, population3, ...`"
   ]
  },
  {
   "cell_type": "code",
   "execution_count": 5,
   "id": "exciting-accreditation",
   "metadata": {},
   "outputs": [
    {
     "name": "stdout",
     "output_type": "stream",
     "text": [
      " Madrid Capital: 6643, Alcalá de Henares: 525, Las Rozas de Madrid: 383, Móstoles: 325, Getafe: 290, San Sebastián de los Reyes: 280, Boadilla del Monte: 275, Parla: 272, Valdemoro: 262, Torrejón de Ardoz: 261, Pozuelo de Alarcón: 259, Alcobendas: 259, Fuenlabrada: 233, Collado Villalba: 230, Arganda del Rey: 206, Leganés: 194, Alcorcón: 190, Coslada: 185, Villaviciosa de Odón: 166, Pinto: 156, Majadahonda: 148, Aranjuez: 144, Arroyomolinos (Madrid): 137, Rivas-vaciamadrid: 119, Torrelodones: 101, Navalcarnero: 100, El Escorial: 86, Ciempozuelos: 86, Galapagar: 84, Velilla de San Antonio: 84, Moralzarzal: 81, San Lorenzo de El Escorial: 80, Villanueva de la Cañada: 76, Villanueva del Pardillo: 71, San Martín de la Vega: 67, Colmenar Viejo: 66, El Álamo: 66, Villalbilla: 64, Miraflores de la Sierra: 62, Humanes de Madrid: 61, Alpedrete: 60, Valdemorillo: 58, Mejorada del Campo: 54, Torrejón de la Calzada: 53, Paracuellos de Jarama: 50, Guadarrama: 50, San Fernando de Henares: 48, Meco: 48, Camarma de Esteruelas: 46, Tres Cantos: 43, Algete: 43, San Martín de Valdeiglesias: 42, Robledo de Chavela: 42, El Molar (Madrid): 39, Manzanares El Real: 37, Brunete: 37, Loeches: 36, Villa del Prado: 35, Torres de la Alameda: 34, Campo Real: 34, Griñón: 33, Daganzo de Arriba: 33, Cubas de la Sagra: 31, Soto del Real: 29, Hoyo de Manzanares: 26, El Boalo - Cerceda – Mataelpino: 25, Colmenar de Oreja: 25, Tielmes: 24, San Agustín del Guadalix: 24, Pedrezuela: 23, Chinchón: 21, Los Santos de la Humosa: 21, Guadalix de la Sierra: 21, Collado Mediano: 21, Villarejo de Salvanés: 19, Sevilla la Nueva: 18, Pelayos de la Presa: 18, Torrejón de Velasco: 18, Ajalvir: 17, Colmenarejo: 17, Villamantilla: 16, Talamanca de Jarama: 16, Becerril de la Sierra: 16, Quijorna: 16, Morata de Tajuña: 15, Navalagamella: 15, Carabaña: 15, Moraleja de Enmedio: 15, Serranillos del Valle: 15, Pozuelo del Rey: 14, Valdetorres de Jarama: 14, Cenicientos: 14, Fresno de Torote - Serracines: 13, Valdilecha: 13, Valdeavero: 13, Aldea del Fresno: 12, Fuentidueña de Tajo: 12, Ribatejada: 12, Los Molinos: 12, Venturada: 12, Nuevo Baztán: 12, Casarrubuelos: 11, Gargantilla del Lozoya: 11, Valdeolmos-Alalpardo: 11, Cadalso de los Vidrios: 11, Cercedilla: 11, Titulcia: 10, Torrelaguna: 10, Orusco de Tajuña: 10, Fuente El Saz de Jarama: 9, Pezuela de las Torres: 9, Cobeña: 9, Corpa: 8, Valdemaqueda: 8, Belmonte de Tajo: 8, Redueña: 8, Bustarviejo: 8, Fresnedillas de la Oliva: 7, Santa María de la Alameda: 7, Villamanta: 7, Villar del Olmo: 7, Garganta de los Montes: 6, Villavieja del Lozoya: 6, Valdelaguna: 6, Navacerrada: 6, Navas del Rey: 6, Perales de Tajuña: 6, Villanueva de Perales: 6, Santorcaz: 5, El Berrueco: 5, Valdemanco: 5, El Vellón: 5, La Cabrera: 4, Estremera: 4, Cabanillas de la Sierra: 4, Colmenar del Arroyo: 4, Lozoyuela-navas-sieteiglesias: 3, Buitrago del Lozoya: 3, Valdepiélagos: 3, Batres: 3, Chapinería: 3, Horcajo de la Sierra: 3, Anchuelo: 2, Valdaracete: 2, Zarzalejo: 2, Patones: 2, Villamanrique de Tajo: 2, Villaconejos: 2, Valverde de Alcalá: 2, Gascones: 2, Puentes Viejas: 2, Torremocha de Jarama: 2, Robregordo: 2, El Atazar: 1, Madarcos: 1, Braojos: 1, Brea de Tajo: 1, Piñuécar-gandullas: 1, Ambite: 1, Navarredonda: 1, Canencia: 1, Lozoya: 1, Navalafuente: 1, Fresno de Torote: 1, Pinilla del Valle: 1, Rascafría: 1, La Hiruela: 1, Montejo de la Sierra: 1\n"
     ]
    }
   ],
   "source": [
    "# TODO\n",
    "#population_name = ds['level5'].tolist()\n",
    "#populations = ', '.join(population_name)\n",
    "#print(populations)\n",
    "\n",
    "population_counts = ds['level5'].value_counts()\n",
    "\n",
    "# Create a list of formatted strings with population names and their counts\n",
    "population_list = [f\"{population}: {count}\" for population, count in population_counts.items()]\n",
    "\n",
    "# Join the list into a single string separated by commas\n",
    "populations_str = ', '.join(population_list)\n",
    "\n",
    "print(populations_str)"
   ]
  },
  {
   "attachments": {},
   "cell_type": "markdown",
   "id": "crazy-blame",
   "metadata": {},
   "source": [
    "#### Exercise 05. Does the dataset contain NAs? (★☆☆)\n",
    "\n",
    "Print a boolean value (`True` or `False`) followed by the rows/cols that contains NAs."
   ]
  },
  {
   "cell_type": "code",
   "execution_count": 6,
   "id": "transparent-poetry",
   "metadata": {},
   "outputs": [
    {
     "name": "stdout",
     "output_type": "stream",
     "text": [
      "Contains NAs: True\n",
      "Rows with NAs:\n",
      "       Unnamed: 0  id_realEstates  isNew                    realEstate_name  \\\n",
      "0               1       153771986  False            ferrari 57 inmobiliaria   \n",
      "1               2       153867863  False  tecnocasa fuenlabrada ferrocarril   \n",
      "2               3       153430440  False                 look find boadilla   \n",
      "3               4       152776331  False  tecnocasa fuenlabrada ferrocarril   \n",
      "4               5       153180188  False            ferrari 57 inmobiliaria   \n",
      "...           ...             ...    ...                                ...   \n",
      "15330       15331       153901377  False                infocasa consulting   \n",
      "15331       15332       150394373  False                inmobiliaria pulpon   \n",
      "15332       15333       153901397  False             tecnocasa torrelodones   \n",
      "15333       15334       152607440  False                inmobiliaria pulpon   \n",
      "15334       15335       153901356  False                infocasa consulting   \n",
      "\n",
      "       phone_realEstate                                       url_inmueble  \\\n",
      "0           912177526.0  https://www.fotocasa.es/es/comprar/vivienda/ma...   \n",
      "1           916358736.0  https://www.fotocasa.es/es/comprar/vivienda/ma...   \n",
      "2           916350408.0  https://www.fotocasa.es/es/comprar/vivienda/ma...   \n",
      "3           916358736.0  https://www.fotocasa.es/es/comprar/vivienda/ma...   \n",
      "4           912177526.0  https://www.fotocasa.es/es/comprar/vivienda/ma...   \n",
      "...                 ...                                                ...   \n",
      "15330       911360461.0  https://www.fotocasa.es/es/comprar/vivienda/ma...   \n",
      "15331       912788039.0  https://www.fotocasa.es/es/comprar/vivienda/ma...   \n",
      "15332       912780348.0  https://www.fotocasa.es/es/comprar/vivienda/ma...   \n",
      "15333       912788039.0  https://www.fotocasa.es/es/comprar/vivienda/ma...   \n",
      "15334       911360461.0  https://www.fotocasa.es/es/comprar/vivienda/ma...   \n",
      "\n",
      "       rooms  bathrooms  surface   price  ... level4Id level5Id level6Id  \\\n",
      "0        3.0        2.0    103.0  195000  ...        0        0        0   \n",
      "1        3.0        1.0      NaN   89000  ...        0        0        0   \n",
      "2        2.0        2.0     99.0  390000  ...        0        0        0   \n",
      "3        3.0        1.0     86.0   89000  ...        0        0        0   \n",
      "4        2.0        2.0    106.0  172000  ...        0        0        0   \n",
      "...      ...        ...      ...     ...  ...      ...      ...      ...   \n",
      "15330    2.0        1.0     96.0  259470  ...        0        0        0   \n",
      "15331    3.0        1.0    150.0  165000  ...        0        0        0   \n",
      "15332    4.0        2.0    175.0  495000  ...        0        0        0   \n",
      "15333    3.0        2.0    101.0  195000  ...        0        0        0   \n",
      "15334    3.0        2.0    152.0  765000  ...        0        0        0   \n",
      "\n",
      "      level7Id level8Id accuracy          latitude          longitude zipCode  \\\n",
      "0            0        0        0  40,2948276786438  -3,44402412135624     NaN   \n",
      "1            0        0        1          40,28674           -3,79351     NaN   \n",
      "2            0        0        0  40,4115646786438  -3,90662252135624     NaN   \n",
      "3            0        0        0  40,2853785786438  -3,79508142135624     NaN   \n",
      "4            0        0        0  40,2998774864376  -3,45226301356237     NaN   \n",
      "...        ...      ...      ...               ...                ...     ...   \n",
      "15330        0        0        0          40,45416           -3,70286     NaN   \n",
      "15331        0        0        0          40,36652           -3,48951     NaN   \n",
      "15332        0        0        0          40,57444           -3,92124     NaN   \n",
      "15333        0        0        0          40,36967           -3,48105     NaN   \n",
      "15334        0        0        0          40,45773           -3,69068     NaN   \n",
      "\n",
      "      customZone  \n",
      "0            NaN  \n",
      "1            NaN  \n",
      "2            NaN  \n",
      "3            NaN  \n",
      "4            NaN  \n",
      "...          ...  \n",
      "15330        NaN  \n",
      "15331        NaN  \n",
      "15332        NaN  \n",
      "15333        NaN  \n",
      "15334        NaN  \n",
      "\n",
      "[15335 rows x 37 columns]\n",
      "Columns with NAs:\n",
      "['realEstate_name', 'phone_realEstate', 'rooms', 'bathrooms', 'surface', 'description', 'level4', 'level6', 'level7', 'level8', 'zipCode', 'customZone']\n"
     ]
    }
   ],
   "source": [
    "# TODO\n",
    "has_nas = ds.isnull().values.any()\n",
    "print(f\"Contains NAs: {has_nas}\")\n",
    "\n",
    "if has_nas:\n",
    "    # Print the rows that contain NAs\n",
    "    rows_with_nas = ds[ds.isnull().any(axis=1)]\n",
    "    print(\"Rows with NAs:\")\n",
    "    print(rows_with_nas)\n",
    "\n",
    "    # Print the columns that contain NAs\n",
    "    cols_with_nas = ds.columns[ds.isnull().any()].tolist()\n",
    "    print(\"Columns with NAs:\")\n",
    "    print(cols_with_nas)"
   ]
  },
  {
   "attachments": {},
   "cell_type": "markdown",
   "id": "italic-hydrogen",
   "metadata": {},
   "source": [
    "#### Exercise 06. Delete the NAs of the dataset, if applicable (★★☆)\n",
    "\n",
    "Print a comparison between the dimensions of the original DataFrame versus the DataFrame after the deletions."
   ]
  },
  {
   "cell_type": "code",
   "execution_count": 7,
   "id": "administrative-roads",
   "metadata": {},
   "outputs": [
    {
     "name": "stdout",
     "output_type": "stream",
     "text": [
      "This is the dimensions of the original DataFrame:  (15335, 37)\n",
      "This is the dimensions after deleting rows with NAs of the DataFrame:  (0, 37)\n"
     ]
    }
   ],
   "source": [
    "# TODO\n",
    "ds_wo_nas = ds.dropna()\n",
    "print('This is the dimensions of the original DataFrame: ',ds.shape)\n",
    "print('This is the dimensions after deleting rows with NAs of the DataFrame: ',ds_wo_nas.shape)"
   ]
  },
  {
   "attachments": {},
   "cell_type": "markdown",
   "id": "middle-china",
   "metadata": {},
   "source": [
    "#### Exercise 07. Which is the mean of prices in the population (level5 column) of \"Arroyomolinos (Madrid)\"? (★★☆)\n",
    "\n",
    "Print the obtained value."
   ]
  },
  {
   "cell_type": "code",
   "execution_count": 8,
   "id": "0a1fcb08",
   "metadata": {},
   "outputs": [
    {
     "name": "stdout",
     "output_type": "stream",
     "text": [
      "The mean price of a house in Arroyomolinos (Madrid) is: 294542 USD\n"
     ]
    }
   ],
   "source": [
    "# TODO\n",
    "#ds = ds.groupby('level5')\n",
    "\n",
    "arroyomolinos_population = ds[ds['level5'] == 'Arroyomolinos (Madrid)']\n",
    "#print(arroyomolinos_population)\n",
    "print('The mean price of a house in Arroyomolinos (Madrid) is:',round(arroyomolinos_population['price'].mean()),'USD')\n"
   ]
  },
  {
   "attachments": {},
   "cell_type": "markdown",
   "id": "concerned-radical",
   "metadata": {},
   "source": [
    "#### Exercise 08. Plot the histogram of prices for the population (level5 column) of \"Arroyomolinos (Madrid)\" and explain what you observe (★★☆)\n",
    "\n",
    "Print the histogram of the prices and write in the Markdown cell a brief analysis about the plot."
   ]
  },
  {
   "cell_type": "code",
   "execution_count": 9,
   "id": "sudden-message",
   "metadata": {},
   "outputs": [
    {
     "data": {
      "image/png": "[encoded data removed]",
      "text/plain": [
       "<Figure size 1000x500 with 1 Axes>"
      ]
     },
     "metadata": {},
     "output_type": "display_data"
    }
   ],
   "source": [
    "# TODO: Code\n",
    "import matplotlib.pyplot as plt\n",
    "arroyomolinos_population = ds[ds['level5'] == 'Arroyomolinos (Madrid)']\n",
    "plt.figure(figsize = (10, 5))\n",
    "\n",
    "plt.hist(arroyomolinos_population.price, bins = 30)\n",
    "\n",
    "plt.title(\"Prices of houses in Arroyomolinos (Madrid)\")\n",
    "plt.show()"
   ]
  },
  {
   "cell_type": "markdown",
   "id": "a6f35bb7",
   "metadata": {},
   "source": [
    "Most of the house are between $200,000.00 and $380,000.00, where the highest tendency is at about $280,000.00"
   ]
  },
  {
   "attachments": {},
   "cell_type": "markdown",
   "id": "actual-edinburgh",
   "metadata": {},
   "source": [
    "#### Exercise 09. Are the average prices of \"Valdemorillo\" and \"Galapagar\" the same? (★★☆)\n",
    "\n",
    "Print both average prices and then write a conclusion about them."
   ]
  },
  {
   "cell_type": "code",
   "execution_count": 10,
   "id": "numeric-commerce",
   "metadata": {},
   "outputs": [
    {
     "name": "stdout",
     "output_type": "stream",
     "text": [
      "The average price of a house in Valdemorrillo is: nan USD\n",
      "The average price of a house in Galapagar is: 360063.20238095237 USD\n"
     ]
    }
   ],
   "source": [
    "# TODO\n",
    "valdemorrillo_population = ds[ds['level5'] == 'Valdemorrillo']\n",
    "#print(valdemorrillo_population)\n",
    "valdemorrillo_avg_price = valdemorrillo_population['price'].mean()\n",
    "\n",
    "galapagar_population = ds[ds['level5'] == 'Galapagar']\n",
    "#print(galapagar_population)\n",
    "galapagar_avg_price = galapagar_population['price'].mean()\n",
    "\n",
    "print('The average price of a house in Valdemorrillo is:',valdemorrillo_avg_price,'USD')\n",
    "print('The average price of a house in Galapagar is:',galapagar_avg_price,'USD')"
   ]
  },
  {
   "cell_type": "markdown",
   "id": "0732d6ea",
   "metadata": {},
   "source": [
    "Makes no sense to me that the price in Valdemorrillo is \"Nan\"."
   ]
  },
  {
   "attachments": {},
   "cell_type": "markdown",
   "id": "lonely-article",
   "metadata": {},
   "source": [
    "#### Exercise 10. Are the average prices per square meter (price/m2) of \"Valdemorillo\" and \"Galapagar\" the same? (★★☆)\n",
    "\n",
    "Print both average prices and then write a conclusion about it.\n",
    "\n",
    "Hint: Create a new column called `pps` (price per square meter) and then analyze the values."
   ]
  },
  {
   "cell_type": "code",
   "execution_count": 11,
   "id": "hourly-globe",
   "metadata": {},
   "outputs": [
    {
     "name": "stdout",
     "output_type": "stream",
     "text": [
      "The average price per square meter of a house in Valdemorrillo is: nan USD\n",
      "The average price per square meter of a house in Galapagar is: 1178.53 USD\n"
     ]
    }
   ],
   "source": [
    "# TODO\n",
    "valdemorrillo_avg_price_per_m2 = valdemorrillo_avg_price / valdemorrillo_population['surface'].mean()\n",
    "galapagar_avg_price_per_m2 = galapagar_avg_price / galapagar_population['surface'].mean()\n",
    "print('The average price per square meter of a house in Valdemorrillo is:',valdemorrillo_avg_price_per_m2,'USD')\n",
    "print('The average price per square meter of a house in Galapagar is:',round((galapagar_avg_price_per_m2),2),'USD')"
   ]
  },
  {
   "attachments": {},
   "cell_type": "markdown",
   "id": "pleasant-invite",
   "metadata": {},
   "source": [
    "#### Exercise 11. Analyze the relation between the surface and the price of the houses (★★☆)\n",
    "\n",
    "Hint: You can make a `scatter plot`, then write a conclusion about it."
   ]
  },
  {
   "cell_type": "code",
   "execution_count": 12,
   "id": "common-drilling",
   "metadata": {},
   "outputs": [
    {
     "data": {
      "image/png": "[encoded data removed]",
      "text/plain": [
       "<Figure size 1000x500 with 1 Axes>"
      ]
     },
     "metadata": {},
     "output_type": "display_data"
    }
   ],
   "source": [
    "# TODO: Code\n",
    "plt.figure(figsize = (10, 5))\n",
    "plt.scatter(valdemorrillo_population['surface'], valdemorrillo_population['price'], label = 'Valdemorrillo')\n",
    "plt.scatter(galapagar_population['surface'], galapagar_population['price'], label = 'Galapagar')\n",
    "plt.title(\"Price per surface in Valdemorrillo and Galapagar\")\n",
    "plt.xlabel(\"Surface\")\n",
    "plt.ylabel(\"Price\")\n",
    "plt.legend()\n",
    "plt.show()"
   ]
  },
  {
   "cell_type": "markdown",
   "id": "9573004b",
   "metadata": {},
   "source": [
    "The prices of Galapagar are concentraded very similar to surface"
   ]
  },
  {
   "attachments": {},
   "cell_type": "markdown",
   "id": "ahead-liquid",
   "metadata": {},
   "source": [
    "**TODO: Markdown**. To write here, double-click on this cell, remove this content and place the text you want to write. Then, execute the cell."
   ]
  },
  {
   "attachments": {},
   "cell_type": "markdown",
   "id": "coordinate-sunrise",
   "metadata": {},
   "source": [
    "#### Exercise 12. How many real estate agencies does the dataset contain? (★★☆)\n",
    "\n",
    "Print the obtained value."
   ]
  },
  {
   "cell_type": "code",
   "execution_count": 13,
   "id": "valid-honolulu",
   "metadata": {},
   "outputs": [
    {
     "name": "stdout",
     "output_type": "stream",
     "text": [
      "The number of real estate agencies is: 1822\n"
     ]
    }
   ],
   "source": [
    "# TODO\n",
    "ds_agencies = ds['realEstate_name'].unique()\n",
    "#print(ds['realEstate_name'])\n",
    "#print(ds_agencies.count())\n",
    "print('The number of real estate agencies is:',len(ds_agencies))\n",
    "#print('The number of houses sold by each agency is:',ds_agencies)"
   ]
  },
  {
   "attachments": {},
   "cell_type": "markdown",
   "id": "binding-ebony",
   "metadata": {},
   "source": [
    "#### Exercise 13. Which is the population (level5 column) that contains the most houses? (★★☆)\n",
    "\n",
    "Print both the population and the number of houses."
   ]
  },
  {
   "cell_type": "code",
   "execution_count": 29,
   "id": "static-perry",
   "metadata": {},
   "outputs": [
    {
     "name": "stdout",
     "output_type": "stream",
     "text": [
      "The population with the most houses is:  Madrid Capital\n",
      "The number of houses in  Madrid Capital is: 6643\n"
     ]
    }
   ],
   "source": [
    "# TODO\n",
    "#ds_populations_houses = ds.groupby('level5')['id_realEstates'].count()\n",
    "#ds_populations = ds['level5'].unique()\n",
    "#ds_populations_houses = ds_populations_houses.sort_values(by=['Population'], ascending=False)\n",
    "#print(ds_populations_houses)\n",
    "\n",
    "ds_populations_houses = ds.groupby('level5')['id_realEstates'].count()\n",
    "\n",
    "# Find the population with the most houses\n",
    "most_houses_population = ds_populations_houses.idxmax()\n",
    "most_houses_count = ds_populations_houses.max()\n",
    "\n",
    "# Print the results\n",
    "print(f\"The population with the most houses is: {most_houses_population}\")\n",
    "print(f\"The number of houses in {most_houses_population} is: {most_houses_count}\")"
   ]
  },
  {
   "cell_type": "code",
   "execution_count": null,
   "id": "3de10014",
   "metadata": {},
   "outputs": [],
   "source": []
  },
  {
   "attachments": {},
   "cell_type": "markdown",
   "id": "entire-classification",
   "metadata": {},
   "source": [
    "#### Exercise 14. Now let's work with the \"south belt\" of Madrid. Make a subset of the original DataFrame that contains the following populations (level5 column): \"Fuenlabrada\", \"Leganés\", \"Getafe\", \"Alcorcón\" (★★☆)\n",
    "\n",
    "Hint: Filter the original DataFrame using the column `level5` and the function `isin`."
   ]
  },
  {
   "cell_type": "code",
   "execution_count": null,
   "id": "binary-input",
   "metadata": {},
   "outputs": [],
   "source": [
    "# TODO\n",
    "ds_south_belt = ds['level5'].isin([\"Fuenlabrada\", \"Leganés\", \"Getafe\", \"Alcorcón\"])\n",
    "ds_south_belt_filtered = ds.loc[ds_south_belt]\n",
    "#ds_south_belt.to_csv('south_belt.csv', index=False)\n",
    "print(ds_south_belt_filtered)"
   ]
  },
  {
   "attachments": {},
   "cell_type": "markdown",
   "id": "severe-fisher",
   "metadata": {},
   "source": [
    "#### Exercise 15. Make a bar plot of the median of the prices and explain what you observe (you must use the subset obtained in Exercise 14) (★★★)\n",
    "\n",
    "Print the bar of the median of the prices and write in the Markdown cell a brief analysis about the plot."
   ]
  },
  {
   "cell_type": "code",
   "execution_count": 51,
   "id": "lyric-bunch",
   "metadata": {},
   "outputs": [
    {
     "data": {
      "image/png": "[encoded data removed]",
      "text/plain": [
       "<Figure size 1000x500 with 1 Axes>"
      ]
     },
     "metadata": {},
     "output_type": "display_data"
    }
   ],
   "source": [
    "# TODO: Code\n",
    "ds_south_belt_Fuenlabrada = ds_south_belt_filtered['level5'].isin([\"Fuenlabrada\"])\n",
    "ds_south_belt_Fuenlabrada = ds_south_belt_filtered.loc[ds_south_belt_Fuenlabrada]\n",
    "fuenlabradaMeanPrice = ds_south_belt_Fuenlabrada['price'].mean()\n",
    "#ds_south_belt_Fuenlabrada.to_csv('south_belt_Fuenlabrada.csv', index=False)\n",
    "#print('The mean price of a house in Fuenlabrada is:',round(ds_south_belt_Fuenlabrada_mean_price),'USD')\n",
    "#print(ds_south_belt_Fuenlabrada)\n",
    "ds_south_belt_Leganes = ds_south_belt_filtered['level5'].isin([\"Leganés\"])\n",
    "ds_south_belt_Leganes = ds_south_belt_filtered.loc[ds_south_belt_Leganes]\n",
    "leganesMeanPrice = ds_south_belt_Leganes['price'].mean()\n",
    "\n",
    "ds_south_belt_Getafe = ds_south_belt_filtered['level5'].isin([\"Getafe\"])\n",
    "ds_south_belt_Getafe = ds_south_belt_filtered.loc[ds_south_belt_Getafe]\n",
    "getafeMeanPrice = ds_south_belt_Getafe['price'].mean()\n",
    "\n",
    "ds_south_belt_Alcorcon = ds_south_belt_filtered['level5'].isin([\"Alcorcón\"])\n",
    "ds_south_belt_Alcorcon = ds_south_belt_filtered.loc[ds_south_belt_Alcorcon]\n",
    "alcorconMeanPrice = ds_south_belt_Alcorcon['price'].mean()\n",
    "\n",
    "labels = [\"Fuenlabrada\", \"Leganés\", \"Getafe\", \"Alcorcón\"]\n",
    "values = [fuenlabradaMeanPrice, leganesMeanPrice, getafeMeanPrice, alcorconMeanPrice]\n",
    "\n",
    "plt.figure(figsize = (10, 5))\n",
    "\n",
    "plt.bar(labels, values)\n",
    "plt.xlabel(\"Population\")\n",
    "plt.ylabel(\"Mean Price (USD)\")\n",
    "plt.grid(axis=\"y\", linestyle=\"--\", alpha=0.7)\n",
    "\n",
    "plt.title(\"Mean price of houses in the South Belt\")\n",
    "plt.show()"
   ]
  },
  {
   "attachments": {},
   "cell_type": "markdown",
   "id": "sublime-newspaper",
   "metadata": {},
   "source": [
    "Getafe is the most expensive population and Fuenlabrada the cheaptest"
   ]
  },
  {
   "attachments": {},
   "cell_type": "markdown",
   "id": "speaking-diamond",
   "metadata": {},
   "source": [
    "#### Exercise 16. Calculate the sample mean and variance of the variables: price, rooms, surface area and bathrooms (you must use the subset obtained in Exercise 14) (★★★)\n",
    "\n",
    "Print both values for each variable."
   ]
  },
  {
   "cell_type": "code",
   "execution_count": 57,
   "id": "random-feeling",
   "metadata": {},
   "outputs": [
    {
     "name": "stdout",
     "output_type": "stream",
     "text": [
      "Statistics per city:\n",
      "                      price                   rooms               surface  \\\n",
      "                      mean           var      mean       var        mean   \n",
      "level5                                                                     \n",
      "Alcorcón     230071.052632  1.594783e+10  2.914894  0.933895  105.913295   \n",
      "Fuenlabrada  177198.021459  4.701021e+09  3.025974  0.355844  103.624365   \n",
      "Getafe       265040.500000  2.098267e+10  3.151724  0.772748  126.896266   \n",
      "Leganés      208682.010309  1.191394e+10  2.906736  0.824590  105.852273   \n",
      "\n",
      "                         bathrooms            \n",
      "                     var      mean       var  \n",
      "level5                                        \n",
      "Alcorcón     4244.323834  1.623656  0.592735  \n",
      "Fuenlabrada  2264.643893  1.445415  0.353367  \n",
      "Getafe       5828.110028  1.865052  0.658809  \n",
      "Leganés      3987.475195  1.518135  0.553055  \n"
     ]
    }
   ],
   "source": [
    "# TODO\n",
    "#mean_prices = ds_south_belt_filtered.groupby(\"level5\")[\"price\"].mean()\n",
    "#variance_prices = ds_south_belt_filtered.groupby(\"level5\")[\"price\"].var()\n",
    "#print('The mean prices are',mean_prices)\n",
    "#print('The variance of the prices are:', variance_prices)\n",
    "#mean_rooms = ds_south_belt_filtered.groupby(\"level5\")[\"rooms\"].mean()\n",
    "#variance_rooms = ds_south_belt_filtered.groupby(\"level5\")[\"rooms\"].var()\n",
    "#print('The mean rooms are',mean_rooms)\n",
    "#print('The variance of the rooms are:', variance_rooms)\n",
    "#mean_surface = ds_south_belt_filtered.groupby(\"level5\")[\"surface\"].mean()\n",
    "#variance_surface = ds_south_belt_filtered.groupby(\"level5\")[\"surface\"].var()\n",
    "#print('The mean surface are',mean_surface)\n",
    "#print('The variance of the surface are:', variance_surface)\n",
    "#mean_bathrooms = ds_south_belt_filtered.groupby(\"level5\")[\"bathrooms\"].mean()\n",
    "#variance_bathrooms = ds_south_belt_filtered.groupby(\"level5\")[\"bathrooms\"].var()\n",
    "#print('The mean bathrooms are',mean_bathrooms)\n",
    "#print('The variance of the bathrooms are:', variance_bathrooms)\n",
    "\n",
    "stats = ds_south_belt_filtered.groupby(\"level5\")[[\"price\", \"rooms\", \"surface\", \"bathrooms\"]].agg([\"mean\", \"var\"])\n",
    "print(\"Statistics per city:\\n\", stats)\n",
    "\n",
    "\n"
   ]
  },
  {
   "attachments": {},
   "cell_type": "markdown",
   "id": "revolutionary-matrix",
   "metadata": {},
   "source": [
    "#### Exercise 17. What is the most expensive house in each population? You must use the subset obtained in Exercise 14 (★★☆)\n",
    "\n",
    "Print both the address and the price of the selected house of each population. You can print a DataFrame or a single line for each population."
   ]
  },
  {
   "cell_type": "code",
   "execution_count": 60,
   "id": "fifteen-browse",
   "metadata": {},
   "outputs": [
    {
     "name": "stdout",
     "output_type": "stream",
     "text": [
      "Max prices per population:\n",
      "                price\n",
      "level5              \n",
      "Alcorcón      950000\n",
      "Fuenlabrada   490000\n",
      "Getafe       1050000\n",
      "Leganés       650000\n"
     ]
    }
   ],
   "source": [
    "# TODO\n",
    "max_prices = ds_south_belt_filtered.groupby(\"level5\")[[\"price\"]].max()\n",
    "print(\"Max prices per population:\\n\", max_prices)"
   ]
  },
  {
   "attachments": {},
   "cell_type": "markdown",
   "id": "activated-knight",
   "metadata": {},
   "source": [
    "#### Exercise 18. Normalize the variable of prices for each population and plot the 4 histograms in the same plot (you must use the subset obtained in Exercise 14) (★★★)\n",
    "\n",
    "For the normalization method, you can use the one you consider; there is not a single correct answer to this question. Print the plot and write in the Markdown cell a brief analysis about the plot.\n",
    "\n",
    "Hint: You can help yourself by reviewing the *multihist* demo of Matplotlib."
   ]
  },
  {
   "cell_type": "code",
   "execution_count": 65,
   "id": "civic-meditation",
   "metadata": {},
   "outputs": [
    {
     "name": "stderr",
     "output_type": "stream",
     "text": [
      "C:\\Users\\jorge\\AppData\\Local\\Temp\\ipykernel_4088\\971127286.py:2: SettingWithCopyWarning: \n",
      "A value is trying to be set on a copy of a slice from a DataFrame.\n",
      "Try using .loc[row_indexer,col_indexer] = value instead\n",
      "\n",
      "See the caveats in the documentation: https://pandas.pydata.org/pandas-docs/stable/user_guide/indexing.html#returning-a-view-versus-a-copy\n",
      "  ds_south_belt_filtered[\"normalized_prices\"] = ds_south_belt_filtered.groupby(\"level5\")[\"price\"].transform(lambda x: (x - x.mean()) / x.std())\n"
     ]
    },
    {
     "data": {
      "image/png": "[encoded data removed]",
      "text/plain": [
       "<Figure size 1000x600 with 1 Axes>"
      ]
     },
     "metadata": {},
     "output_type": "display_data"
    }
   ],
   "source": [
    "# TODO\n",
    "ds_south_belt_filtered[\"normalized_prices\"] = ds_south_belt_filtered.groupby(\"level5\")[\"price\"].transform(lambda x: (x - x.mean()) / x.std())\n",
    "populations = [\"Fuenlabrada\", \"Leganés\", \"Getafe\", \"Alcorcón\"]\n",
    "colors = ['blue', 'green', 'red', 'purple']\n",
    "\n",
    "plt.figure(figsize=(10, 6))\n",
    "for pop, color in zip(populations, colors):\n",
    "    subset = ds_south_belt_filtered[ds_south_belt_filtered[\"level5\"] == pop]\n",
    "    plt.hist(subset[\"normalized_prices\"], bins=30, alpha=0.5, label=pop, color=color)\n",
    "\n",
    "plt.xlabel(\"Standardized Price\")\n",
    "plt.ylabel(\"Frequency\")\n",
    "plt.title(\"Histograms of Standardized Prices by Population\")\n",
    "plt.legend(title=\"Populations\")\n",
    "plt.show()"
   ]
  },
  {
   "attachments": {},
   "cell_type": "markdown",
   "id": "precise-heavy",
   "metadata": {},
   "source": [
    "**TODO: Markdown**. To write here, double-click on this cell, remove this content and place the text you want to write. Then, execute the cell."
   ]
  },
  {
   "attachments": {},
   "cell_type": "markdown",
   "id": "patent-jonathan",
   "metadata": {},
   "source": [
    "#### Exercise 19. What can you say about the price per square meter (price/m2) between the towns of \"Getafe\" and \"Alcorcón\"? You must use the subset obtained in Exercise 14 (★★☆)\n",
    "\n",
    "Hint: Create a new column called `pps` (price per square meter) and then analyze the values."
   ]
  },
  {
   "cell_type": "code",
   "execution_count": 78,
   "id": "initial-liverpool",
   "metadata": {},
   "outputs": [
    {
     "name": "stdout",
     "output_type": "stream",
     "text": [
      "level5\n",
      "Alcorcón               NaN\n",
      "Fuenlabrada    2022.491378\n",
      "Getafe         2513.300144\n",
      "Leganés                NaN\n",
      "Name: pps, dtype: float64\n"
     ]
    }
   ],
   "source": [
    "# TODO\n",
    "#ds_south_belt_filtered = ds_south_belt_filtered['level5' == 'Alarcon' or 'level5' == 'Getafe'].meanprice()\n",
    "#ds2 = ds_south_belt_filtered.groupby(\"level5\")[[\"price\"]].sum()\n",
    "#ds3 = ds_south_belt_filtered.groupby(\"level5\")[[\"surface\"]].sum()\n",
    "#ds4 = ds2['price'] / ds3['surface']\n",
    "#print(ds3)\n",
    "#print(ds2)\n",
    "#print(ds4)\n",
    "\n",
    "ds_grouped = ds_south_belt_filtered.groupby(\"level5\")[[\"price\", \"surface\"]].sum()\n",
    "ds_grouped.loc[ds_grouped.index.isin([\"Getafe\", \"Fuenlabrada\"]), \"pps\"] = (ds_grouped[\"price\"] / ds_grouped[\"surface\"])\n",
    "\n",
    "print(ds_grouped[\"pps\"])\n"
   ]
  },
  {
   "attachments": {},
   "cell_type": "markdown",
   "id": "enhanced-moscow",
   "metadata": {},
   "source": [
    "#### Exercise 20. Make the same plot for 4 different populations (level5 column) and rearrange them on the same graph. You must use the subset obtained in Exercise 14 (★★☆)\n",
    " \n",
    "Hint: Make a scatter plot of each population using subplots."
   ]
  },
  {
   "cell_type": "code",
   "execution_count": 90,
   "id": "accepting-airfare",
   "metadata": {},
   "outputs": [
    {
     "data": {
      "image/png": "[encoded data removed]",
      "text/plain": [
       "<Figure size 800x500 with 1 Axes>"
      ]
     },
     "metadata": {},
     "output_type": "display_data"
    }
   ],
   "source": [
    "# TODO\n",
    "#ds_south_belt_filtered\n",
    "ds_grouped = ds_south_belt_filtered.groupby(\"level5\")[[\"price\", \"surface\"]].sum()\n",
    "ds_grouped[\"pps\"] = (ds_grouped[\"price\"] / ds_grouped[\"surface\"])\n",
    "#print(ds_grouped)\n",
    "\n",
    "plt.figure(figsize=(8, 5))\n",
    "y = ds_grouped[\"pps\"]\n",
    "x = ds_grouped.index\n",
    "plt.bar(x,y, color=['blue', 'green', 'red', 'purple'])\n",
    "plt.xlabel(\"Location\")\n",
    "plt.ylabel(\"Median Price per Surface\")\n",
    "plt.title(\"Median Price per Surface in 4 Locations\")\n",
    "plt.show()\n",
    "\n"
   ]
  },
  {
   "attachments": {},
   "cell_type": "markdown",
   "id": "blocked-effects",
   "metadata": {},
   "source": [
    "#### Exercise 21. Make a plot of the coordinates (latitude and longitude columns) of the south belt of Madrid by color of each population (you must use the subset obtained in Exercise 14) (★★★★)\n",
    "\n",
    "Execute the following cell, and then start coding in the next one. You must implement a simple code that transforms the coordinates columns in a Python dictionary (add more information if needed) and then add it to the map"
   ]
  },
  {
   "cell_type": "code",
   "execution_count": 95,
   "id": "headed-privacy",
   "metadata": {},
   "outputs": [
    {
     "data": {
      "application/vnd.jupyter.widget-view+json": {
       "model_id": "fc0fab6aa7954bbcb9431db4af41d075",
       "version_major": 2,
       "version_minor": 0
      },
      "text/plain": [
       "Map(center=[60, -2.2], controls=(ZoomControl(options=['position', 'zoom_in_text', 'zoom_in_title', 'zoom_out_t…"
      ]
     },
     "execution_count": 95,
     "metadata": {},
     "output_type": "execute_result"
    }
   ],
   "source": [
    "from ipyleaflet import Map, basemaps\n",
    "\n",
    "# Map centered on (60 degrees latitude and -2.2 degrees longitude)\n",
    "# Latitude, longitude\n",
    "map = Map(center = (60, -2.2), zoom = 2, min_zoom = 1, max_zoom = 20, \n",
    "    basemap=basemaps.OpenStreetMap.Mapnik)\n",
    "map"
   ]
  },
  {
   "cell_type": "code",
   "execution_count": null,
   "id": "present-mistress",
   "metadata": {},
   "outputs": [],
   "source": [
    "## HERE: plot the coordinates of the estates\n",
    "\n",
    "## PUT HERE YOUR CODE:"
   ]
  }
 ],
 "metadata": {
  "kernelspec": {
   "display_name": "Prework_DataScience-rEutmJRo",
   "language": "python",
   "name": "python3"
  },
  "language_info": {
   "codemirror_mode": {
    "name": "ipython",
    "version": 3
   },
   "file_extension": ".py",
   "mimetype": "text/x-python",
   "name": "python",
   "nbconvert_exporter": "python",
   "pygments_lexer": "ipython3",
   "version": "3.13.1"
  }
 },
 "nbformat": 4,
 "nbformat_minor": 5
}
